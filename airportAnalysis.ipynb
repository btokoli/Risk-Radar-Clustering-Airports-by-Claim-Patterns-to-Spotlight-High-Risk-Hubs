{
 "cells": [
  {
   "cell_type": "markdown",
   "metadata": {},
   "source": [
    "### Importing Libraries"
   ]
  },
  {
   "cell_type": "code",
   "execution_count": 2,
   "metadata": {},
   "outputs": [],
   "source": [
    "import pandas as pd\n",
    "import numpy as np\n",
    "import matplotlib.pyplot as plt\n",
    "import seaborn as sns\n",
    "import missingno as msno"
   ]
  },
  {
   "cell_type": "markdown",
   "metadata": {},
   "source": [
    "## Exploratory Data Analysis (EDA)"
   ]
  },
  {
   "cell_type": "code",
   "execution_count": 3,
   "metadata": {},
   "outputs": [],
   "source": [
    "df= pd.read_csv(\"TSA2002_2015.csv\", low_memory=False)"
   ]
  },
  {
   "cell_type": "code",
   "execution_count": 4,
   "metadata": {},
   "outputs": [
    {
     "data": {
      "text/plain": [
       "(204270, 13)"
      ]
     },
     "execution_count": 4,
     "metadata": {},
     "output_type": "execute_result"
    }
   ],
   "source": [
    "df.shape"
   ]
  },
  {
   "cell_type": "code",
   "execution_count": 5,
   "metadata": {},
   "outputs": [
    {
     "name": "stdout",
     "output_type": "stream",
     "text": [
      "<class 'pandas.core.frame.DataFrame'>\n",
      "RangeIndex: 204270 entries, 0 to 204269\n",
      "Data columns (total 13 columns):\n",
      " #   Column         Non-Null Count   Dtype \n",
      "---  ------         --------------   ----- \n",
      " 0   Claim Number   204267 non-null  object\n",
      " 1   Date Received  204004 non-null  object\n",
      " 2   Incident Date  202084 non-null  object\n",
      " 3   Airport Code   195743 non-null  object\n",
      " 4   Airport Name   195743 non-null  object\n",
      " 5   Airline Name   169893 non-null  object\n",
      " 6   Claim Type     196354 non-null  object\n",
      " 7   Claim Site     203527 non-null  object\n",
      " 8   Item           200301 non-null  object\n",
      " 9   Claim Amount   200224 non-null  object\n",
      " 10  Status         204262 non-null  object\n",
      " 11  Close Amount   135315 non-null  object\n",
      " 12  Disposition    131359 non-null  object\n",
      "dtypes: object(13)\n",
      "memory usage: 20.3+ MB\n"
     ]
    }
   ],
   "source": [
    "df.info()"
   ]
  },
  {
   "cell_type": "code",
   "execution_count": 6,
   "metadata": {},
   "outputs": [
    {
     "data": {
      "text/html": [
       "<div>\n",
       "<style scoped>\n",
       "    .dataframe tbody tr th:only-of-type {\n",
       "        vertical-align: middle;\n",
       "    }\n",
       "\n",
       "    .dataframe tbody tr th {\n",
       "        vertical-align: top;\n",
       "    }\n",
       "\n",
       "    .dataframe thead th {\n",
       "        text-align: right;\n",
       "    }\n",
       "</style>\n",
       "<table border=\"1\" class=\"dataframe\">\n",
       "  <thead>\n",
       "    <tr style=\"text-align: right;\">\n",
       "      <th></th>\n",
       "      <th>Claim Number</th>\n",
       "      <th>Date Received</th>\n",
       "      <th>Incident Date</th>\n",
       "      <th>Airport Code</th>\n",
       "      <th>Airport Name</th>\n",
       "      <th>Airline Name</th>\n",
       "      <th>Claim Type</th>\n",
       "      <th>Claim Site</th>\n",
       "      <th>Item</th>\n",
       "      <th>Claim Amount</th>\n",
       "      <th>Status</th>\n",
       "      <th>Close Amount</th>\n",
       "      <th>Disposition</th>\n",
       "    </tr>\n",
       "  </thead>\n",
       "  <tbody>\n",
       "    <tr>\n",
       "      <th>0</th>\n",
       "      <td>0909802M</td>\n",
       "      <td>04-Jan-02</td>\n",
       "      <td>12/12/2002 00:00</td>\n",
       "      <td>EWR</td>\n",
       "      <td>Newark International Airport</td>\n",
       "      <td>Continental Airlines</td>\n",
       "      <td>Property Damage</td>\n",
       "      <td>Checkpoint</td>\n",
       "      <td>Other</td>\n",
       "      <td>$350.00</td>\n",
       "      <td>Approved</td>\n",
       "      <td>$350.00</td>\n",
       "      <td>Approve in Full</td>\n",
       "    </tr>\n",
       "    <tr>\n",
       "      <th>1</th>\n",
       "      <td>0202417M</td>\n",
       "      <td>02-Feb-02</td>\n",
       "      <td>1/16/2004 0:00</td>\n",
       "      <td>SEA</td>\n",
       "      <td>Seattle-Tacoma International</td>\n",
       "      <td>NaN</td>\n",
       "      <td>Property Damage</td>\n",
       "      <td>Checked Baggage</td>\n",
       "      <td>Luggage (all types including footlockers)</td>\n",
       "      <td>$100.00</td>\n",
       "      <td>Settled</td>\n",
       "      <td>$50.00</td>\n",
       "      <td>Settle</td>\n",
       "    </tr>\n",
       "    <tr>\n",
       "      <th>2</th>\n",
       "      <td>0202445M</td>\n",
       "      <td>04-Feb-02</td>\n",
       "      <td>11/26/2003 0:00</td>\n",
       "      <td>STL</td>\n",
       "      <td>Lambert St. Louis International</td>\n",
       "      <td>American Airlines</td>\n",
       "      <td>Property Damage</td>\n",
       "      <td>Checked Baggage</td>\n",
       "      <td>Cell Phones</td>\n",
       "      <td>$278.88</td>\n",
       "      <td>Settled</td>\n",
       "      <td>$227.92</td>\n",
       "      <td>Settle</td>\n",
       "    </tr>\n",
       "    <tr>\n",
       "      <th>3</th>\n",
       "      <td>0909816M</td>\n",
       "      <td>07-Feb-02</td>\n",
       "      <td>01/06/2003 00:00</td>\n",
       "      <td>MIA</td>\n",
       "      <td>Miami International Airport</td>\n",
       "      <td>American Airlines</td>\n",
       "      <td>Property Damage</td>\n",
       "      <td>Checkpoint</td>\n",
       "      <td>Luggage (all types including footlockers)</td>\n",
       "      <td>$50.00</td>\n",
       "      <td>Approved</td>\n",
       "      <td>$50.00</td>\n",
       "      <td>Approve in Full</td>\n",
       "    </tr>\n",
       "    <tr>\n",
       "      <th>4</th>\n",
       "      <td>2.00503E+12</td>\n",
       "      <td>18-Feb-02</td>\n",
       "      <td>02/05/2005 00:00</td>\n",
       "      <td>MCO</td>\n",
       "      <td>Orlando International Airport</td>\n",
       "      <td>Delta (Song)</td>\n",
       "      <td>Property Damage</td>\n",
       "      <td>Checkpoint</td>\n",
       "      <td>Baby - Strollers; car seats; playpen; etc.</td>\n",
       "      <td>$84.79</td>\n",
       "      <td>Approved</td>\n",
       "      <td>$84.79</td>\n",
       "      <td>Approve in Full</td>\n",
       "    </tr>\n",
       "  </tbody>\n",
       "</table>\n",
       "</div>"
      ],
      "text/plain": [
       "  Claim Number Date Received     Incident Date Airport Code  \\\n",
       "0     0909802M     04-Jan-02  12/12/2002 00:00          EWR   \n",
       "1     0202417M     02-Feb-02    1/16/2004 0:00          SEA   \n",
       "2     0202445M     04-Feb-02   11/26/2003 0:00          STL   \n",
       "3     0909816M     07-Feb-02  01/06/2003 00:00          MIA   \n",
       "4  2.00503E+12     18-Feb-02  02/05/2005 00:00          MCO   \n",
       "\n",
       "                      Airport Name          Airline Name       Claim Type  \\\n",
       "0     Newark International Airport  Continental Airlines  Property Damage   \n",
       "1     Seattle-Tacoma International                   NaN  Property Damage   \n",
       "2  Lambert St. Louis International     American Airlines  Property Damage   \n",
       "3      Miami International Airport     American Airlines  Property Damage   \n",
       "4    Orlando International Airport          Delta (Song)  Property Damage   \n",
       "\n",
       "        Claim Site                                        Item Claim Amount  \\\n",
       "0       Checkpoint                                       Other     $350.00    \n",
       "1  Checked Baggage   Luggage (all types including footlockers)     $100.00    \n",
       "2  Checked Baggage                                 Cell Phones     $278.88    \n",
       "3       Checkpoint   Luggage (all types including footlockers)      $50.00    \n",
       "4       Checkpoint  Baby - Strollers; car seats; playpen; etc.      $84.79    \n",
       "\n",
       "     Status Close Amount      Disposition  \n",
       "0  Approved     $350.00   Approve in Full  \n",
       "1   Settled      $50.00            Settle  \n",
       "2   Settled     $227.92            Settle  \n",
       "3  Approved      $50.00   Approve in Full  \n",
       "4  Approved      $84.79   Approve in Full  "
      ]
     },
     "execution_count": 6,
     "metadata": {},
     "output_type": "execute_result"
    }
   ],
   "source": [
    "df.head()"
   ]
  },
  {
   "cell_type": "code",
   "execution_count": 7,
   "metadata": {},
   "outputs": [
    {
     "data": {
      "text/plain": [
       "(204270, 13)"
      ]
     },
     "execution_count": 7,
     "metadata": {},
     "output_type": "execute_result"
    }
   ],
   "source": [
    "df.shape"
   ]
  },
  {
   "cell_type": "markdown",
   "metadata": {},
   "source": [
    "### Data Cleaning"
   ]
  },
  {
   "cell_type": "code",
   "execution_count": 8,
   "metadata": {},
   "outputs": [],
   "source": [
    "#Converting the Date Received Column to datetime format\n",
    "\n",
    "df[\"Date Received\"]= pd.to_datetime(df[\"Date Received\"], format=\"mixed\")"
   ]
  },
  {
   "cell_type": "code",
   "execution_count": 9,
   "metadata": {},
   "outputs": [],
   "source": [
    "#Converting the Incident Date column to datetime format\n",
    "\n",
    "df[\"Incident Date\"]= pd.to_datetime(df[\"Incident Date\"], errors=\"coerce\", format=\"mixed\")"
   ]
  },
  {
   "cell_type": "code",
   "execution_count": 10,
   "metadata": {},
   "outputs": [
    {
     "data": {
      "text/plain": [
       "Claim Number         3\n",
       "Date Received      266\n",
       "Incident Date     2350\n",
       "Airport Code      8527\n",
       "Airport Name      8527\n",
       "Airline Name     34377\n",
       "Claim Type        7916\n",
       "Claim Site         743\n",
       "Item              3969\n",
       "Claim Amount      4046\n",
       "Status               8\n",
       "Close Amount     68955\n",
       "Disposition      72911\n",
       "dtype: int64"
      ]
     },
     "execution_count": 10,
     "metadata": {},
     "output_type": "execute_result"
    }
   ],
   "source": [
    "#Checking the count of missing values per column\n",
    "\n",
    "df.isna().sum()"
   ]
  },
  {
   "cell_type": "code",
   "execution_count": 11,
   "metadata": {},
   "outputs": [
    {
     "data": {
      "image/png": "[encoded data removed]",
      "text/plain": [
       "<Figure size 2500x1000 with 3 Axes>"
      ]
     },
     "metadata": {},
     "output_type": "display_data"
    }
   ],
   "source": [
    "plt.figure(figsize=(14,7))\n",
    "msno.bar(df)\n",
    "plt.title(\"Graph of Missing Values\", fontweight='bold')\n",
    "plt.tight_layout(pad=5)"
   ]
  },
  {
   "cell_type": "code",
   "execution_count": 12,
   "metadata": {},
   "outputs": [
    {
     "data": {
      "text/plain": [
       "Claim Number      0.001469\n",
       "Date Received     0.130220\n",
       "Incident Date     1.150438\n",
       "Airport Code      4.174377\n",
       "Airport Name      4.174377\n",
       "Airline Name     16.829197\n",
       "Claim Type        3.875263\n",
       "Claim Site        0.363734\n",
       "Item              1.943017\n",
       "Claim Amount      1.980712\n",
       "Status            0.003916\n",
       "Close Amount     33.756792\n",
       "Disposition      35.693445\n",
       "dtype: float64"
      ]
     },
     "execution_count": 12,
     "metadata": {},
     "output_type": "execute_result"
    }
   ],
   "source": [
    "#Checking the percentage of missing values per column\n",
    "\n",
    "df.isnull().mean() *100"
   ]
  },
  {
   "cell_type": "markdown",
   "metadata": {},
   "source": [
    "The dataset has varying percentages of missing values across several columns:\n",
    "\n",
    "- Claim Number: 0.0015% missing, minimal impact.\n",
    "- Date Received: 0.13% missing, relatively low.\n",
    "- Incident Date: 1.15% missing, manageable.\n",
    "- Airport Code/Name: 4.17% missing, moderate.\n",
    "- Airline Name: 16.83% missing, significant.\n",
    "- Claim Type: 3.88% missing, moderate.\n",
    "- Claim Site: 0.36% missing, low.\n",
    "- Item: 1.94% missing, moderate.\n",
    "- Claim Amount: 1.98% missing, moderate.\n",
    "- Close Amount: 33.76% missing, substantial.\n",
    "- Disposition: 35.69% missing, substantial."
   ]
  },
  {
   "cell_type": "code",
   "execution_count": 13,
   "metadata": {},
   "outputs": [
    {
     "data": {
      "text/plain": [
       "Status\n",
       "Denied                                                                                                                           68339\n",
       "Approved                                                                                                                         34999\n",
       "Deny                                                                                                                             28237\n",
       "Settled                                                                                                                          27958\n",
       "-                                                                                                                                12752\n",
       "Approve in Full                                                                                                                  12364\n",
       "Canceled                                                                                                                          7018\n",
       "Settle                                                                                                                            5766\n",
       "Insufficient; one of the following items required: sum certain; statement of fact; signature; location of incident; and date.     5381\n",
       "Closed as a contractor claim                                                                                                      1315\n",
       "In litigation                                                                                                                      108\n",
       "Claim entered                                                                                                                       14\n",
       "In review                                                                                                                            9\n",
       "Pending response from claimant                                                                                                       1\n",
       "Claim has been assigned for further investigation                                                                                    1\n",
       "Name: count, dtype: int64"
      ]
     },
     "execution_count": 13,
     "metadata": {},
     "output_type": "execute_result"
    }
   ],
   "source": [
    "# Checking the counts of all the different types of Claim Status\n",
    "\n",
    "df[\"Status\"].value_counts()"
   ]
  },
  {
   "cell_type": "code",
   "execution_count": 14,
   "metadata": {},
   "outputs": [],
   "source": [
    "#Dropping Status Column\n",
    "\n",
    "df1= df.drop(\"Status\", axis=1)"
   ]
  },
  {
   "cell_type": "code",
   "execution_count": 15,
   "metadata": {},
   "outputs": [
    {
     "data": {
      "text/html": [
       "<div>\n",
       "<style scoped>\n",
       "    .dataframe tbody tr th:only-of-type {\n",
       "        vertical-align: middle;\n",
       "    }\n",
       "\n",
       "    .dataframe tbody tr th {\n",
       "        vertical-align: top;\n",
       "    }\n",
       "\n",
       "    .dataframe thead th {\n",
       "        text-align: right;\n",
       "    }\n",
       "</style>\n",
       "<table border=\"1\" class=\"dataframe\">\n",
       "  <thead>\n",
       "    <tr style=\"text-align: right;\">\n",
       "      <th></th>\n",
       "      <th>Claim Number</th>\n",
       "      <th>Date Received</th>\n",
       "      <th>Incident Date</th>\n",
       "      <th>Airport Code</th>\n",
       "      <th>Airport Name</th>\n",
       "      <th>Airline Name</th>\n",
       "      <th>Claim Type</th>\n",
       "      <th>Claim Site</th>\n",
       "      <th>Item</th>\n",
       "      <th>Claim Amount</th>\n",
       "      <th>Close Amount</th>\n",
       "      <th>Disposition</th>\n",
       "    </tr>\n",
       "  </thead>\n",
       "  <tbody>\n",
       "    <tr>\n",
       "      <th>16842</th>\n",
       "      <td>2.00405E+12</td>\n",
       "      <td>2003-09-26</td>\n",
       "      <td>2003-09-13</td>\n",
       "      <td>NaN</td>\n",
       "      <td>NaN</td>\n",
       "      <td>NaN</td>\n",
       "      <td>Property Damage</td>\n",
       "      <td>Checked Baggage</td>\n",
       "      <td>DVD/CD Players</td>\n",
       "      <td>$31.96</td>\n",
       "      <td>NaN</td>\n",
       "      <td>NaN</td>\n",
       "    </tr>\n",
       "    <tr>\n",
       "      <th>44763</th>\n",
       "      <td>2.00409E+12</td>\n",
       "      <td>2004-09-14</td>\n",
       "      <td>2004-07-29</td>\n",
       "      <td>F</td>\n",
       "      <td>Foreign airport</td>\n",
       "      <td>NaN</td>\n",
       "      <td>Property Damage</td>\n",
       "      <td>Checked Baggage</td>\n",
       "      <td>Luggage (all types including footlockers)</td>\n",
       "      <td>$300.00</td>\n",
       "      <td>$0.00</td>\n",
       "      <td>Deny</td>\n",
       "    </tr>\n",
       "    <tr>\n",
       "      <th>44764</th>\n",
       "      <td>2.00409E+12</td>\n",
       "      <td>2004-09-14</td>\n",
       "      <td>2004-07-29</td>\n",
       "      <td>F</td>\n",
       "      <td>Foreign airport</td>\n",
       "      <td>NaN</td>\n",
       "      <td>Property Damage</td>\n",
       "      <td>Checked Baggage</td>\n",
       "      <td>Luggage (all types including footlockers)</td>\n",
       "      <td>$300.00</td>\n",
       "      <td>$0.00</td>\n",
       "      <td>Deny</td>\n",
       "    </tr>\n",
       "    <tr>\n",
       "      <th>46766</th>\n",
       "      <td>2.00411E+12</td>\n",
       "      <td>2004-10-05</td>\n",
       "      <td>2004-09-05</td>\n",
       "      <td>SEA</td>\n",
       "      <td>Seattle-Tacoma International</td>\n",
       "      <td>Northwest Airlines</td>\n",
       "      <td>Property Damage</td>\n",
       "      <td>Checked Baggage</td>\n",
       "      <td>Locks</td>\n",
       "      <td>$120.00</td>\n",
       "      <td>$120.00</td>\n",
       "      <td>Deny</td>\n",
       "    </tr>\n",
       "    <tr>\n",
       "      <th>60157</th>\n",
       "      <td>2.00504E+12</td>\n",
       "      <td>2005-03-29</td>\n",
       "      <td>2005-03-07</td>\n",
       "      <td>EWR</td>\n",
       "      <td>Newark International Airport</td>\n",
       "      <td>Continental Airlines</td>\n",
       "      <td>Passenger Property Loss</td>\n",
       "      <td>Checked Baggage</td>\n",
       "      <td>Locks</td>\n",
       "      <td>$30.00</td>\n",
       "      <td>$30.00</td>\n",
       "      <td>Approve in Full</td>\n",
       "    </tr>\n",
       "    <tr>\n",
       "      <th>...</th>\n",
       "      <td>...</td>\n",
       "      <td>...</td>\n",
       "      <td>...</td>\n",
       "      <td>...</td>\n",
       "      <td>...</td>\n",
       "      <td>...</td>\n",
       "      <td>...</td>\n",
       "      <td>...</td>\n",
       "      <td>...</td>\n",
       "      <td>...</td>\n",
       "      <td>...</td>\n",
       "      <td>...</td>\n",
       "    </tr>\n",
       "    <tr>\n",
       "      <th>200148</th>\n",
       "      <td>2.01507E+12</td>\n",
       "      <td>2015-07-22</td>\n",
       "      <td>2015-07-10</td>\n",
       "      <td>LAX</td>\n",
       "      <td>Los Angeles International Airport</td>\n",
       "      <td>Jet Blue</td>\n",
       "      <td>Property Damage</td>\n",
       "      <td>Checked Baggage</td>\n",
       "      <td>Baggage/Cases/Purses</td>\n",
       "      <td>$0.00</td>\n",
       "      <td>NaN</td>\n",
       "      <td>NaN</td>\n",
       "    </tr>\n",
       "    <tr>\n",
       "      <th>203176</th>\n",
       "      <td>2.01512E+12</td>\n",
       "      <td>2015-12-04</td>\n",
       "      <td>2015-12-02</td>\n",
       "      <td>SAN</td>\n",
       "      <td>San Diego International</td>\n",
       "      <td>Delta Air Lines</td>\n",
       "      <td>Passenger Property Loss</td>\n",
       "      <td>Checked Baggage</td>\n",
       "      <td>Audio/Video</td>\n",
       "      <td>-</td>\n",
       "      <td>NaN</td>\n",
       "      <td>NaN</td>\n",
       "    </tr>\n",
       "    <tr>\n",
       "      <th>204201</th>\n",
       "      <td>2.01509E+12</td>\n",
       "      <td>2015-08-14</td>\n",
       "      <td>2013-08-16</td>\n",
       "      <td>ZZX</td>\n",
       "      <td>Non TSA Airport (motor vehicle)</td>\n",
       "      <td>-</td>\n",
       "      <td>Personal Injury</td>\n",
       "      <td>Motor Vehicle</td>\n",
       "      <td>-</td>\n",
       "      <td>-</td>\n",
       "      <td>NaN</td>\n",
       "      <td>NaN</td>\n",
       "    </tr>\n",
       "    <tr>\n",
       "      <th>204202</th>\n",
       "      <td>2.01509E+12</td>\n",
       "      <td>2015-08-14</td>\n",
       "      <td>2013-08-16</td>\n",
       "      <td>ZZX</td>\n",
       "      <td>Non TSA Airport (motor vehicle)</td>\n",
       "      <td>-</td>\n",
       "      <td>Personal Injury</td>\n",
       "      <td>Motor Vehicle</td>\n",
       "      <td>-</td>\n",
       "      <td>-</td>\n",
       "      <td>NaN</td>\n",
       "      <td>NaN</td>\n",
       "    </tr>\n",
       "    <tr>\n",
       "      <th>204203</th>\n",
       "      <td>2.01509E+12</td>\n",
       "      <td>2015-08-14</td>\n",
       "      <td>2013-08-16</td>\n",
       "      <td>ZZX</td>\n",
       "      <td>Non TSA Airport (motor vehicle)</td>\n",
       "      <td>-</td>\n",
       "      <td>Personal Injury</td>\n",
       "      <td>Motor Vehicle</td>\n",
       "      <td>-</td>\n",
       "      <td>-</td>\n",
       "      <td>NaN</td>\n",
       "      <td>NaN</td>\n",
       "    </tr>\n",
       "  </tbody>\n",
       "</table>\n",
       "<p>115 rows × 12 columns</p>\n",
       "</div>"
      ],
      "text/plain": [
       "       Claim Number Date Received Incident Date Airport Code  \\\n",
       "16842   2.00405E+12    2003-09-26    2003-09-13          NaN   \n",
       "44763   2.00409E+12    2004-09-14    2004-07-29            F   \n",
       "44764   2.00409E+12    2004-09-14    2004-07-29            F   \n",
       "46766   2.00411E+12    2004-10-05    2004-09-05          SEA   \n",
       "60157   2.00504E+12    2005-03-29    2005-03-07          EWR   \n",
       "...             ...           ...           ...          ...   \n",
       "200148  2.01507E+12    2015-07-22    2015-07-10          LAX   \n",
       "203176  2.01512E+12    2015-12-04    2015-12-02          SAN   \n",
       "204201  2.01509E+12    2015-08-14    2013-08-16          ZZX   \n",
       "204202  2.01509E+12    2015-08-14    2013-08-16          ZZX   \n",
       "204203  2.01509E+12    2015-08-14    2013-08-16          ZZX   \n",
       "\n",
       "                             Airport Name          Airline Name  \\\n",
       "16842                                 NaN                   NaN   \n",
       "44763                     Foreign airport                   NaN   \n",
       "44764                     Foreign airport                   NaN   \n",
       "46766        Seattle-Tacoma International    Northwest Airlines   \n",
       "60157        Newark International Airport  Continental Airlines   \n",
       "...                                   ...                   ...   \n",
       "200148  Los Angeles International Airport              Jet Blue   \n",
       "203176            San Diego International       Delta Air Lines   \n",
       "204201    Non TSA Airport (motor vehicle)                     -   \n",
       "204202    Non TSA Airport (motor vehicle)                     -   \n",
       "204203    Non TSA Airport (motor vehicle)                     -   \n",
       "\n",
       "                     Claim Type       Claim Site  \\\n",
       "16842           Property Damage  Checked Baggage   \n",
       "44763           Property Damage  Checked Baggage   \n",
       "44764           Property Damage  Checked Baggage   \n",
       "46766           Property Damage  Checked Baggage   \n",
       "60157   Passenger Property Loss  Checked Baggage   \n",
       "...                         ...              ...   \n",
       "200148          Property Damage  Checked Baggage   \n",
       "203176  Passenger Property Loss  Checked Baggage   \n",
       "204201          Personal Injury    Motor Vehicle   \n",
       "204202          Personal Injury    Motor Vehicle   \n",
       "204203          Personal Injury    Motor Vehicle   \n",
       "\n",
       "                                             Item Claim Amount Close Amount  \\\n",
       "16842                              DVD/CD Players      $31.96           NaN   \n",
       "44763   Luggage (all types including footlockers)     $300.00        $0.00    \n",
       "44764   Luggage (all types including footlockers)     $300.00        $0.00    \n",
       "46766                                       Locks     $120.00      $120.00    \n",
       "60157                                       Locks      $30.00       $30.00    \n",
       "...                                           ...          ...          ...   \n",
       "200148                       Baggage/Cases/Purses       $0.00           NaN   \n",
       "203176                                Audio/Video            -          NaN   \n",
       "204201                                          -            -          NaN   \n",
       "204202                                          -            -          NaN   \n",
       "204203                                          -            -          NaN   \n",
       "\n",
       "            Disposition  \n",
       "16842               NaN  \n",
       "44763              Deny  \n",
       "44764              Deny  \n",
       "46766              Deny  \n",
       "60157   Approve in Full  \n",
       "...                 ...  \n",
       "200148              NaN  \n",
       "203176              NaN  \n",
       "204201              NaN  \n",
       "204202              NaN  \n",
       "204203              NaN  \n",
       "\n",
       "[115 rows x 12 columns]"
      ]
     },
     "execution_count": 15,
     "metadata": {},
     "output_type": "execute_result"
    }
   ],
   "source": [
    "#Checking for duplicates\n",
    "\n",
    "df1[df1.duplicated()]"
   ]
  },
  {
   "cell_type": "code",
   "execution_count": 16,
   "metadata": {},
   "outputs": [
    {
     "data": {
      "text/plain": [
       "np.int64(115)"
      ]
     },
     "execution_count": 16,
     "metadata": {},
     "output_type": "execute_result"
    }
   ],
   "source": [
    "df1.duplicated().sum()"
   ]
  },
  {
   "cell_type": "markdown",
   "metadata": {},
   "source": [
    "There are 20 entries with the same claim number."
   ]
  },
  {
   "cell_type": "code",
   "execution_count": 17,
   "metadata": {},
   "outputs": [],
   "source": [
    "#Dropping the duplicates\n",
    "\n",
    "df1= df1.drop_duplicates()"
   ]
  },
  {
   "cell_type": "code",
   "execution_count": 18,
   "metadata": {},
   "outputs": [],
   "source": [
    "#Dropping null values for Disposition\n",
    "\n",
    "df1= df1.dropna(subset=\"Disposition\")"
   ]
  },
  {
   "cell_type": "code",
   "execution_count": 19,
   "metadata": {},
   "outputs": [
    {
     "data": {
      "text/plain": [
       "Claim Number         0\n",
       "Date Received      119\n",
       "Incident Date      915\n",
       "Airport Code      4181\n",
       "Airport Name      4181\n",
       "Airline Name     28307\n",
       "Claim Type        5886\n",
       "Claim Site         277\n",
       "Item              2892\n",
       "Claim Amount       766\n",
       "Close Amount      1473\n",
       "Disposition          0\n",
       "dtype: int64"
      ]
     },
     "execution_count": 19,
     "metadata": {},
     "output_type": "execute_result"
    }
   ],
   "source": [
    "df1.isna().sum()"
   ]
  },
  {
   "cell_type": "code",
   "execution_count": 20,
   "metadata": {},
   "outputs": [],
   "source": [
    "#Dropping null values for incident date\n",
    "\n",
    "df1.dropna(subset=\"Incident Date\", inplace=True)"
   ]
  },
  {
   "cell_type": "code",
   "execution_count": 21,
   "metadata": {},
   "outputs": [],
   "source": [
    "#Dropping Claim Number column because it's irrelevant for our analysis\n",
    "\n",
    "df2= df1.drop(\"Claim Number\", axis=1)"
   ]
  },
  {
   "cell_type": "code",
   "execution_count": 22,
   "metadata": {},
   "outputs": [],
   "source": [
    "#Creating Date Received Month, Date Received Year, Incident Month and Incident Year columns\n",
    "df2[\"Date Received Month\"]= df2[\"Date Received\"].dt.strftime(\"%b\")\n",
    "df2[\"Incident Month\"]= df2[\"Incident Date\"].dt.strftime(\"%b\")\n",
    "df2[\"Date Received Year\"]= df2[\"Date Received\"].dt.year\n",
    "df2[\"Incident Year\"]= df2[\"Incident Date\"].dt.year"
   ]
  },
  {
   "cell_type": "code",
   "execution_count": 23,
   "metadata": {},
   "outputs": [],
   "source": [
    "#Dropping Null values for Date received\n",
    "df2.dropna(subset=\"Date Received\", inplace=True)"
   ]
  },
  {
   "cell_type": "code",
   "execution_count": 24,
   "metadata": {},
   "outputs": [],
   "source": [
    "#Dropping Airline name column\n",
    "df2= df2.drop(\"Airline Name\", axis=1)"
   ]
  },
  {
   "cell_type": "code",
   "execution_count": 25,
   "metadata": {},
   "outputs": [],
   "source": [
    "#Dropping null values for airport code, airport name, claim type, claim site and item\n",
    "\n",
    "df2.dropna(subset=[\"Airport Code\", \"Airport Name\", \"Claim Type\", \"Claim Site\", \"Item\"], inplace=True)"
   ]
  },
  {
   "cell_type": "code",
   "execution_count": 26,
   "metadata": {},
   "outputs": [
    {
     "data": {
      "text/plain": [
       "Date Received             0\n",
       "Incident Date             0\n",
       "Airport Code              0\n",
       "Airport Name              0\n",
       "Claim Type                0\n",
       "Claim Site                0\n",
       "Item                      0\n",
       "Claim Amount            174\n",
       "Close Amount           1277\n",
       "Disposition               0\n",
       "Date Received Month       0\n",
       "Incident Month            0\n",
       "Date Received Year        0\n",
       "Incident Year             0\n",
       "dtype: int64"
      ]
     },
     "execution_count": 26,
     "metadata": {},
     "output_type": "execute_result"
    }
   ],
   "source": [
    "df2.isna().sum()"
   ]
  },
  {
   "cell_type": "code",
   "execution_count": 27,
   "metadata": {},
   "outputs": [
    {
     "name": "stdout",
     "output_type": "stream",
     "text": [
      "<class 'pandas.core.frame.DataFrame'>\n",
      "Index: 118925 entries, 0 to 145143\n",
      "Data columns (total 14 columns):\n",
      " #   Column               Non-Null Count   Dtype         \n",
      "---  ------               --------------   -----         \n",
      " 0   Date Received        118925 non-null  datetime64[ns]\n",
      " 1   Incident Date        118925 non-null  datetime64[ns]\n",
      " 2   Airport Code         118925 non-null  object        \n",
      " 3   Airport Name         118925 non-null  object        \n",
      " 4   Claim Type           118925 non-null  object        \n",
      " 5   Claim Site           118925 non-null  object        \n",
      " 6   Item                 118925 non-null  object        \n",
      " 7   Claim Amount         118751 non-null  object        \n",
      " 8   Close Amount         117648 non-null  object        \n",
      " 9   Disposition          118925 non-null  object        \n",
      " 10  Date Received Month  118925 non-null  object        \n",
      " 11  Incident Month       118925 non-null  object        \n",
      " 12  Date Received Year   118925 non-null  float64       \n",
      " 13  Incident Year        118925 non-null  int32         \n",
      "dtypes: datetime64[ns](2), float64(1), int32(1), object(10)\n",
      "memory usage: 13.2+ MB\n"
     ]
    }
   ],
   "source": [
    "df2.info()"
   ]
  },
  {
   "cell_type": "code",
   "execution_count": 28,
   "metadata": {},
   "outputs": [],
   "source": [
    "#Removing the dollar signs and converting the data types of claim amount and close amount to float.\n",
    "df2[\"Claim Amount\"]= df2[\"Claim Amount\"].str.replace('[$;]', '', regex=True).astype(\"float\")\n",
    "df2[\"Close Amount\"]= df2[\"Close Amount\"].str.replace('[$;]',  '', regex=True).astype(\"float\")"
   ]
  },
  {
   "cell_type": "code",
   "execution_count": 29,
   "metadata": {},
   "outputs": [
    {
     "data": {
      "text/html": [
       "<div>\n",
       "<style scoped>\n",
       "    .dataframe tbody tr th:only-of-type {\n",
       "        vertical-align: middle;\n",
       "    }\n",
       "\n",
       "    .dataframe tbody tr th {\n",
       "        vertical-align: top;\n",
       "    }\n",
       "\n",
       "    .dataframe thead th {\n",
       "        text-align: right;\n",
       "    }\n",
       "</style>\n",
       "<table border=\"1\" class=\"dataframe\">\n",
       "  <thead>\n",
       "    <tr style=\"text-align: right;\">\n",
       "      <th></th>\n",
       "      <th>count</th>\n",
       "      <th>mean</th>\n",
       "      <th>min</th>\n",
       "      <th>25%</th>\n",
       "      <th>50%</th>\n",
       "      <th>75%</th>\n",
       "      <th>max</th>\n",
       "      <th>std</th>\n",
       "    </tr>\n",
       "  </thead>\n",
       "  <tbody>\n",
       "    <tr>\n",
       "      <th>Date Received</th>\n",
       "      <td>118925</td>\n",
       "      <td>2006-03-12 22:51:05.441244544</td>\n",
       "      <td>1994-01-05 00:00:00</td>\n",
       "      <td>2004-08-27 00:00:00</td>\n",
       "      <td>2005-12-21 00:00:00</td>\n",
       "      <td>2007-09-19 00:00:00</td>\n",
       "      <td>2055-05-17 00:00:00</td>\n",
       "      <td>NaN</td>\n",
       "    </tr>\n",
       "    <tr>\n",
       "      <th>Incident Date</th>\n",
       "      <td>118925</td>\n",
       "      <td>2006-01-30 05:07:59.528778496</td>\n",
       "      <td>1996-05-08 00:00:00</td>\n",
       "      <td>2004-07-12 00:00:00</td>\n",
       "      <td>2005-11-10 00:00:00</td>\n",
       "      <td>2007-08-16 00:00:00</td>\n",
       "      <td>2010-06-22 00:00:00</td>\n",
       "      <td>NaN</td>\n",
       "    </tr>\n",
       "    <tr>\n",
       "      <th>Claim Amount</th>\n",
       "      <td>118751.0</td>\n",
       "      <td>3165.709638</td>\n",
       "      <td>0.0</td>\n",
       "      <td>62.485</td>\n",
       "      <td>175.0</td>\n",
       "      <td>450.0</td>\n",
       "      <td>125000000.0</td>\n",
       "      <td>470249.438914</td>\n",
       "    </tr>\n",
       "    <tr>\n",
       "      <th>Close Amount</th>\n",
       "      <td>117648.0</td>\n",
       "      <td>94.657721</td>\n",
       "      <td>0.0</td>\n",
       "      <td>0.0</td>\n",
       "      <td>0.0</td>\n",
       "      <td>72.02</td>\n",
       "      <td>250000.0</td>\n",
       "      <td>809.146145</td>\n",
       "    </tr>\n",
       "    <tr>\n",
       "      <th>Date Received Year</th>\n",
       "      <td>118925.0</td>\n",
       "      <td>2005.704831</td>\n",
       "      <td>1994.0</td>\n",
       "      <td>2004.0</td>\n",
       "      <td>2005.0</td>\n",
       "      <td>2007.0</td>\n",
       "      <td>2055.0</td>\n",
       "      <td>1.868651</td>\n",
       "    </tr>\n",
       "    <tr>\n",
       "      <th>Incident Year</th>\n",
       "      <td>118925.0</td>\n",
       "      <td>2005.580988</td>\n",
       "      <td>1996.0</td>\n",
       "      <td>2004.0</td>\n",
       "      <td>2005.0</td>\n",
       "      <td>2007.0</td>\n",
       "      <td>2010.0</td>\n",
       "      <td>1.869959</td>\n",
       "    </tr>\n",
       "  </tbody>\n",
       "</table>\n",
       "</div>"
      ],
      "text/plain": [
       "                       count                           mean  \\\n",
       "Date Received         118925  2006-03-12 22:51:05.441244544   \n",
       "Incident Date         118925  2006-01-30 05:07:59.528778496   \n",
       "Claim Amount        118751.0                    3165.709638   \n",
       "Close Amount        117648.0                      94.657721   \n",
       "Date Received Year  118925.0                    2005.704831   \n",
       "Incident Year       118925.0                    2005.580988   \n",
       "\n",
       "                                    min                  25%  \\\n",
       "Date Received       1994-01-05 00:00:00  2004-08-27 00:00:00   \n",
       "Incident Date       1996-05-08 00:00:00  2004-07-12 00:00:00   \n",
       "Claim Amount                        0.0               62.485   \n",
       "Close Amount                        0.0                  0.0   \n",
       "Date Received Year               1994.0               2004.0   \n",
       "Incident Year                    1996.0               2004.0   \n",
       "\n",
       "                                    50%                  75%  \\\n",
       "Date Received       2005-12-21 00:00:00  2007-09-19 00:00:00   \n",
       "Incident Date       2005-11-10 00:00:00  2007-08-16 00:00:00   \n",
       "Claim Amount                      175.0                450.0   \n",
       "Close Amount                        0.0                72.02   \n",
       "Date Received Year               2005.0               2007.0   \n",
       "Incident Year                    2005.0               2007.0   \n",
       "\n",
       "                                    max            std  \n",
       "Date Received       2055-05-17 00:00:00            NaN  \n",
       "Incident Date       2010-06-22 00:00:00            NaN  \n",
       "Claim Amount                125000000.0  470249.438914  \n",
       "Close Amount                   250000.0     809.146145  \n",
       "Date Received Year               2055.0       1.868651  \n",
       "Incident Year                    2010.0       1.869959  "
      ]
     },
     "execution_count": 29,
     "metadata": {},
     "output_type": "execute_result"
    }
   ],
   "source": [
    "#Preliminary Descriptive Statistics of Numerical Features\n",
    "\n",
    "df2.describe().T"
   ]
  },
  {
   "cell_type": "code",
   "execution_count": 30,
   "metadata": {},
   "outputs": [],
   "source": [
    "#Filling Null Values of Claim Amount and Close Amount by their medians\n",
    "\n",
    "df2[\"Claim Amount\"]= df2[\"Claim Amount\"].fillna(df2[\"Claim Amount\"].median())\n",
    "df2[\"Close Amount\"]= df2[\"Close Amount\"].fillna(df2[\"Close Amount\"].median())"
   ]
  },
  {
   "cell_type": "code",
   "execution_count": 31,
   "metadata": {},
   "outputs": [
    {
     "data": {
      "text/html": [
       "<div>\n",
       "<style scoped>\n",
       "    .dataframe tbody tr th:only-of-type {\n",
       "        vertical-align: middle;\n",
       "    }\n",
       "\n",
       "    .dataframe tbody tr th {\n",
       "        vertical-align: top;\n",
       "    }\n",
       "\n",
       "    .dataframe thead th {\n",
       "        text-align: right;\n",
       "    }\n",
       "</style>\n",
       "<table border=\"1\" class=\"dataframe\">\n",
       "  <thead>\n",
       "    <tr style=\"text-align: right;\">\n",
       "      <th></th>\n",
       "      <th>count</th>\n",
       "      <th>mean</th>\n",
       "      <th>min</th>\n",
       "      <th>25%</th>\n",
       "      <th>50%</th>\n",
       "      <th>75%</th>\n",
       "      <th>max</th>\n",
       "      <th>std</th>\n",
       "    </tr>\n",
       "  </thead>\n",
       "  <tbody>\n",
       "    <tr>\n",
       "      <th>Date Received</th>\n",
       "      <td>118925</td>\n",
       "      <td>2006-03-12 22:51:05.441244544</td>\n",
       "      <td>1994-01-05 00:00:00</td>\n",
       "      <td>2004-08-27 00:00:00</td>\n",
       "      <td>2005-12-21 00:00:00</td>\n",
       "      <td>2007-09-19 00:00:00</td>\n",
       "      <td>2055-05-17 00:00:00</td>\n",
       "      <td>NaN</td>\n",
       "    </tr>\n",
       "    <tr>\n",
       "      <th>Incident Date</th>\n",
       "      <td>118925</td>\n",
       "      <td>2006-01-30 05:07:59.528778496</td>\n",
       "      <td>1996-05-08 00:00:00</td>\n",
       "      <td>2004-07-12 00:00:00</td>\n",
       "      <td>2005-11-10 00:00:00</td>\n",
       "      <td>2007-08-16 00:00:00</td>\n",
       "      <td>2010-06-22 00:00:00</td>\n",
       "      <td>NaN</td>\n",
       "    </tr>\n",
       "    <tr>\n",
       "      <th>Claim Amount</th>\n",
       "      <td>118925.0</td>\n",
       "      <td>3161.33391</td>\n",
       "      <td>0.0</td>\n",
       "      <td>62.78</td>\n",
       "      <td>175.0</td>\n",
       "      <td>450.0</td>\n",
       "      <td>125000000.0</td>\n",
       "      <td>469905.311377</td>\n",
       "    </tr>\n",
       "    <tr>\n",
       "      <th>Close Amount</th>\n",
       "      <td>118925.0</td>\n",
       "      <td>93.6413</td>\n",
       "      <td>0.0</td>\n",
       "      <td>0.0</td>\n",
       "      <td>0.0</td>\n",
       "      <td>70.0</td>\n",
       "      <td>250000.0</td>\n",
       "      <td>804.849265</td>\n",
       "    </tr>\n",
       "    <tr>\n",
       "      <th>Date Received Year</th>\n",
       "      <td>118925.0</td>\n",
       "      <td>2005.704831</td>\n",
       "      <td>1994.0</td>\n",
       "      <td>2004.0</td>\n",
       "      <td>2005.0</td>\n",
       "      <td>2007.0</td>\n",
       "      <td>2055.0</td>\n",
       "      <td>1.868651</td>\n",
       "    </tr>\n",
       "    <tr>\n",
       "      <th>Incident Year</th>\n",
       "      <td>118925.0</td>\n",
       "      <td>2005.580988</td>\n",
       "      <td>1996.0</td>\n",
       "      <td>2004.0</td>\n",
       "      <td>2005.0</td>\n",
       "      <td>2007.0</td>\n",
       "      <td>2010.0</td>\n",
       "      <td>1.869959</td>\n",
       "    </tr>\n",
       "  </tbody>\n",
       "</table>\n",
       "</div>"
      ],
      "text/plain": [
       "                       count                           mean  \\\n",
       "Date Received         118925  2006-03-12 22:51:05.441244544   \n",
       "Incident Date         118925  2006-01-30 05:07:59.528778496   \n",
       "Claim Amount        118925.0                     3161.33391   \n",
       "Close Amount        118925.0                        93.6413   \n",
       "Date Received Year  118925.0                    2005.704831   \n",
       "Incident Year       118925.0                    2005.580988   \n",
       "\n",
       "                                    min                  25%  \\\n",
       "Date Received       1994-01-05 00:00:00  2004-08-27 00:00:00   \n",
       "Incident Date       1996-05-08 00:00:00  2004-07-12 00:00:00   \n",
       "Claim Amount                        0.0                62.78   \n",
       "Close Amount                        0.0                  0.0   \n",
       "Date Received Year               1994.0               2004.0   \n",
       "Incident Year                    1996.0               2004.0   \n",
       "\n",
       "                                    50%                  75%  \\\n",
       "Date Received       2005-12-21 00:00:00  2007-09-19 00:00:00   \n",
       "Incident Date       2005-11-10 00:00:00  2007-08-16 00:00:00   \n",
       "Claim Amount                      175.0                450.0   \n",
       "Close Amount                        0.0                 70.0   \n",
       "Date Received Year               2005.0               2007.0   \n",
       "Incident Year                    2005.0               2007.0   \n",
       "\n",
       "                                    max            std  \n",
       "Date Received       2055-05-17 00:00:00            NaN  \n",
       "Incident Date       2010-06-22 00:00:00            NaN  \n",
       "Claim Amount                125000000.0  469905.311377  \n",
       "Close Amount                   250000.0     804.849265  \n",
       "Date Received Year               2055.0       1.868651  \n",
       "Incident Year                    2010.0       1.869959  "
      ]
     },
     "execution_count": 31,
     "metadata": {},
     "output_type": "execute_result"
    }
   ],
   "source": [
    "#Final Descriptive Statistics of Numerical Features\n",
    "\n",
    "df2.describe().T"
   ]
  },
  {
   "cell_type": "markdown",
   "metadata": {},
   "source": [
    "- The cleaned dataset now contains 118,925 total number of entries.\n",
    "- Date Received: Mean date of 2006-03-12. The earliest entry is from 1994-01-05, and the latest is 2055-05-17.\n",
    "- Incident Date: Mean date of 2006-01-30, with a range from 1996-05-08 to 2010-06-22.\n",
    "- Claim Amount: A mean of $3,165.71, ranging from $0 to $125,000,000, with a large standard deviation of $470,249.44, indicating high variability.\n",
    "- Close Amount: Mean of $94.66, ranging from $0 to $250,000, with a smaller deviation of $809.15.\n",
    "- Both Date Received Year and Incident Year indicate a mean of approximately 2005"
   ]
  },
  {
   "cell_type": "code",
   "execution_count": 32,
   "metadata": {},
   "outputs": [
    {
     "data": {
      "text/html": [
       "<div>\n",
       "<style scoped>\n",
       "    .dataframe tbody tr th:only-of-type {\n",
       "        vertical-align: middle;\n",
       "    }\n",
       "\n",
       "    .dataframe tbody tr th {\n",
       "        vertical-align: top;\n",
       "    }\n",
       "\n",
       "    .dataframe thead th {\n",
       "        text-align: right;\n",
       "    }\n",
       "</style>\n",
       "<table border=\"1\" class=\"dataframe\">\n",
       "  <thead>\n",
       "    <tr style=\"text-align: right;\">\n",
       "      <th></th>\n",
       "      <th>count</th>\n",
       "      <th>unique</th>\n",
       "      <th>top</th>\n",
       "      <th>freq</th>\n",
       "    </tr>\n",
       "  </thead>\n",
       "  <tbody>\n",
       "    <tr>\n",
       "      <th>Airport Code</th>\n",
       "      <td>118925</td>\n",
       "      <td>424</td>\n",
       "      <td>LAX</td>\n",
       "      <td>5923</td>\n",
       "    </tr>\n",
       "    <tr>\n",
       "      <th>Airport Name</th>\n",
       "      <td>118925</td>\n",
       "      <td>424</td>\n",
       "      <td>Los Angeles International Airport</td>\n",
       "      <td>5923</td>\n",
       "    </tr>\n",
       "    <tr>\n",
       "      <th>Claim Type</th>\n",
       "      <td>118925</td>\n",
       "      <td>6</td>\n",
       "      <td>Passenger Property Loss</td>\n",
       "      <td>71566</td>\n",
       "    </tr>\n",
       "    <tr>\n",
       "      <th>Claim Site</th>\n",
       "      <td>118925</td>\n",
       "      <td>4</td>\n",
       "      <td>Checked Baggage</td>\n",
       "      <td>97029</td>\n",
       "    </tr>\n",
       "    <tr>\n",
       "      <th>Item</th>\n",
       "      <td>118925</td>\n",
       "      <td>3193</td>\n",
       "      <td>Other</td>\n",
       "      <td>24295</td>\n",
       "    </tr>\n",
       "    <tr>\n",
       "      <th>Disposition</th>\n",
       "      <td>118925</td>\n",
       "      <td>3</td>\n",
       "      <td>Deny</td>\n",
       "      <td>63279</td>\n",
       "    </tr>\n",
       "    <tr>\n",
       "      <th>Date Received Month</th>\n",
       "      <td>118925</td>\n",
       "      <td>12</td>\n",
       "      <td>Aug</td>\n",
       "      <td>11015</td>\n",
       "    </tr>\n",
       "    <tr>\n",
       "      <th>Incident Month</th>\n",
       "      <td>118925</td>\n",
       "      <td>12</td>\n",
       "      <td>Aug</td>\n",
       "      <td>10694</td>\n",
       "    </tr>\n",
       "  </tbody>\n",
       "</table>\n",
       "</div>"
      ],
      "text/plain": [
       "                      count unique                                top   freq\n",
       "Airport Code         118925    424                                LAX   5923\n",
       "Airport Name         118925    424  Los Angeles International Airport   5923\n",
       "Claim Type           118925      6            Passenger Property Loss  71566\n",
       "Claim Site           118925      4                    Checked Baggage  97029\n",
       "Item                 118925   3193                              Other  24295\n",
       "Disposition          118925      3                               Deny  63279\n",
       "Date Received Month  118925     12                                Aug  11015\n",
       "Incident Month       118925     12                                Aug  10694"
      ]
     },
     "execution_count": 32,
     "metadata": {},
     "output_type": "execute_result"
    }
   ],
   "source": [
    "#Descriptive Statistics of Categorical Variables\n",
    "\n",
    "df2.describe(include=\"object\").T"
   ]
  },
  {
   "cell_type": "markdown",
   "metadata": {},
   "source": [
    "The \"Airport Code\" and \"Airport Name\" fields have 424 unique values, with the most frequent being \"LAX\" and \"Los Angeles International Airport,\" each appearing 5,923 times. The \"Claim Type\" includes six categories, with \"Passenger Property Loss\" being the most frequent at 71,566 occurrences. The \"Claim Site\" is dominated by \"Checked Baggage\" claims, which account for 97,029 entries. The most frequent \"Item\" category is \"Other,\" with 24,295 instances. \"Disposition\" shows three outcomes, with \"Deny\" being the most frequent at 63,279 entries. August is the most common month for both \"Date Received\" and \"Incident Month."
   ]
  },
  {
   "cell_type": "markdown",
   "metadata": {},
   "source": [
    "### Data Visualization"
   ]
  },
  {
   "cell_type": "code",
   "execution_count": 34,
   "metadata": {},
   "outputs": [],
   "source": [
    "#Separating into numerical and categorical features\n",
    "num_cols= df2.select_dtypes(include=[np.number]).columns\n",
    "cat_cols= df2.select_dtypes(exclude= [np.number]).columns\n",
    "\n",
    "#Separating into numerical and categorical data\n",
    "num_df= df2[num_cols]\n",
    "cat_df= df2[cat_cols]"
   ]
  },
  {
   "cell_type": "code",
   "execution_count": 42,
   "metadata": {},
   "outputs": [
    {
     "data": {
      "text/plain": [
       "(array([1.18922e+05, 1.00000e+00, 0.00000e+00, 0.00000e+00, 0.00000e+00,\n",
       "        0.00000e+00, 0.00000e+00, 0.00000e+00, 1.00000e+00, 1.00000e+00]),\n",
       " array([0.000e+00, 1.250e+07, 2.500e+07, 3.750e+07, 5.000e+07, 6.250e+07,\n",
       "        7.500e+07, 8.750e+07, 1.000e+08, 1.125e+08, 1.250e+08]),\n",
       " <BarContainer object of 10 artists>)"
      ]
     },
     "execution_count": 42,
     "metadata": {},
     "output_type": "execute_result"
    },
    {
     "data": {
      "image/png": "[encoded data removed]",
      "text/plain": [
       "<Figure size 1400x700 with 1 Axes>"
      ]
     },
     "metadata": {},
     "output_type": "display_data"
    }
   ],
   "source": [
    "plt.figure(figsize=(14,7))\n",
    "\n",
    "plt.hist(x=df2[\"Claim Amount\"])"
   ]
  },
  {
   "cell_type": "code",
   "execution_count": null,
   "metadata": {},
   "outputs": [],
   "source": []
  }
 ],
 "metadata": {
  "kernelspec": {
   "display_name": "AirportAnalysis",
   "language": "python",
   "name": "python3"
  },
  "language_info": {
   "codemirror_mode": {
    "name": "ipython",
    "version": 3
   },
   "file_extension": ".py",
   "mimetype": "text/x-python",
   "name": "python",
   "nbconvert_exporter": "python",
   "pygments_lexer": "ipython3",
   "version": "3.9.18"
  }
 },
 "nbformat": 4,
 "nbformat_minor": 2
}
